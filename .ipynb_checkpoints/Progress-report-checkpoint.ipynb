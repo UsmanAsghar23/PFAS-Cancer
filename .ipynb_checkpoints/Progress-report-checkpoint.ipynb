{
 "cells": [
  {
   "cell_type": "markdown",
   "metadata": {},
   "source": [
    "Project Introduction:\n",
    "The project analyzes cancer trends in California with a focus on water quality and its potential impact on public health. The data being analyzed \n",
    "comes from three main sources:\n",
    "1. California Cancer Dataset: This dataset includes cancer incidence rates across counties, broken down by cancer type, ethnicity, \n",
    "gender, and age-adjusted rates from 2017-2021. It includes over 4,500 rows of data.\n",
    "2. California PFAS Dataset: Contains statewide PFAS contamination levels measured from groundwater samples collected between 2016-2014, \n",
    "spanning over 680,000 rows. This data tracks various water quality measures.\n",
    "3. 2022 County Shapefiles: These shapefiles offer geographic boundaries for counties in California, useful for linking cancer and \n",
    "PFAS data to specific geographic regions.\n",
    "\n",
    "The primary research question is to examine whether there is a correlation between water quality, specifically PFAS contamination, \n",
    "and cancer rates in California. The project aims to determine if areas with higher PFAS contamination also show elevated cancer rates, \n",
    "with an emphasis on low-income communities that may experience worse water quality and related health disparities."
   ]
  },
  {
   "cell_type": "markdown",
   "metadata": {},
   "source": [
    "Changes to Scope:\n",
    "What will not be done: The scope of the project has narrowed slightly, with a shift away from exploring all water contaminants in favor of a more focused investigation into PFAS and its direct correlation with cancer rates.\n",
    "\n",
    "\n",
    "This refined approach aims to provide actionable insights into the link between water quality and public health, particularly cancer incidence, and offer policy recommendations based on the findings.\n"
   ]
  }
 ],
 "metadata": {
  "language_info": {
   "name": "python"
  },
  "orig_nbformat": 4
 },
 "nbformat": 4,
 "nbformat_minor": 2
}
