{
 "cells": [
  {
   "cell_type": "code",
   "execution_count": 1,
   "metadata": {},
   "outputs": [
    {
     "name": "stdout",
     "output_type": "stream",
     "text": [
      "Requirement already satisfied: pandas in /home/shayan283/anaconda3/envs/cs418env/lib/python3.12/site-packages (2.2.3)\n",
      "Requirement already satisfied: geopandas in /home/shayan283/anaconda3/envs/cs418env/lib/python3.12/site-packages (1.0.1)\n",
      "Requirement already satisfied: numpy>=1.26.0 in /home/shayan283/anaconda3/envs/cs418env/lib/python3.12/site-packages (from pandas) (1.26.4)\n",
      "Requirement already satisfied: python-dateutil>=2.8.2 in /home/shayan283/anaconda3/envs/cs418env/lib/python3.12/site-packages (from pandas) (2.9.0.post0)\n",
      "Requirement already satisfied: pytz>=2020.1 in /home/shayan283/anaconda3/envs/cs418env/lib/python3.12/site-packages (from pandas) (2024.1)\n",
      "Requirement already satisfied: tzdata>=2022.7 in /home/shayan283/anaconda3/envs/cs418env/lib/python3.12/site-packages (from pandas) (2023.3)\n",
      "Requirement already satisfied: pyogrio>=0.7.2 in /home/shayan283/anaconda3/envs/cs418env/lib/python3.12/site-packages (from geopandas) (0.10.0)\n",
      "Requirement already satisfied: packaging in /home/shayan283/anaconda3/envs/cs418env/lib/python3.12/site-packages (from geopandas) (24.2)\n",
      "Requirement already satisfied: pyproj>=3.3.0 in /home/shayan283/anaconda3/envs/cs418env/lib/python3.12/site-packages (from geopandas) (3.7.1)\n",
      "Requirement already satisfied: shapely>=2.0.0 in /home/shayan283/anaconda3/envs/cs418env/lib/python3.12/site-packages (from geopandas) (2.0.7)\n",
      "Requirement already satisfied: certifi in /home/shayan283/anaconda3/envs/cs418env/lib/python3.12/site-packages (from pyogrio>=0.7.2->geopandas) (2024.12.14)\n",
      "Requirement already satisfied: six>=1.5 in /home/shayan283/anaconda3/envs/cs418env/lib/python3.12/site-packages (from python-dateutil>=2.8.2->pandas) (1.16.0)\n",
      "Note: you may need to restart the kernel to use updated packages.\n"
     ]
    }
   ],
   "source": [
    "pip install pandas geopandas"
   ]
  },
  {
   "cell_type": "code",
   "execution_count": 7,
   "metadata": {},
   "outputs": [
    {
     "name": "stderr",
     "output_type": "stream",
     "text": [
      "/tmp/ipykernel_6662/137819142.py:2: DtypeWarning: Columns (20,26,27,29,32,36) have mixed types. Specify dtype option on import or set low_memory=False.\n",
      "  df = pd.read_csv('../data/raw/pfas.zip', compression='zip', encoding='ISO-8859-1')\n"
     ]
    }
   ],
   "source": [
    "import pandas as pd\n",
    "df = pd.read_csv('../data/raw/pfas.zip', compression='zip', encoding='ISO-8859-1')"
   ]
  },
  {
   "cell_type": "markdown",
   "metadata": {},
   "source": []
  },
  {
   "cell_type": "code",
   "execution_count": 8,
   "metadata": {},
   "outputs": [
    {
     "data": {
      "text/html": [
       "<div>\n",
       "<style scoped>\n",
       "    .dataframe tbody tr th:only-of-type {\n",
       "        vertical-align: middle;\n",
       "    }\n",
       "\n",
       "    .dataframe tbody tr th {\n",
       "        vertical-align: top;\n",
       "    }\n",
       "\n",
       "    .dataframe thead th {\n",
       "        text-align: right;\n",
       "    }\n",
       "</style>\n",
       "<table border=\"1\" class=\"dataframe\">\n",
       "  <thead>\n",
       "    <tr style=\"text-align: right;\">\n",
       "      <th></th>\n",
       "      <th>gm_dataset_name</th>\n",
       "      <th>gm_well_category</th>\n",
       "      <th>gm_data_source</th>\n",
       "      <th>gm_well_id</th>\n",
       "      <th>gm_chemical_vvl</th>\n",
       "      <th>gm_chemical_name</th>\n",
       "      <th>gm_result_modifier</th>\n",
       "      <th>gm_result</th>\n",
       "      <th>gm_chemical_units</th>\n",
       "      <th>gm_reporting_limit</th>\n",
       "      <th>...</th>\n",
       "      <th>src_analysis_date</th>\n",
       "      <th>src_analytical_method</th>\n",
       "      <th>src_lab_note</th>\n",
       "      <th>src_latitude</th>\n",
       "      <th>src_longitude</th>\n",
       "      <th>src_datum</th>\n",
       "      <th>src_well_depth_ft</th>\n",
       "      <th>src_top_depth_of_screen_ft</th>\n",
       "      <th>src_bottom_depth_of_screen_ft</th>\n",
       "      <th>src_well_category</th>\n",
       "    </tr>\n",
       "  </thead>\n",
       "  <tbody>\n",
       "    <tr>\n",
       "      <th>0</th>\n",
       "      <td>DDW</td>\n",
       "      <td>Municipal</td>\n",
       "      <td>DDW</td>\n",
       "      <td>CA0800552_002_002</td>\n",
       "      <td>NMEFOSAA</td>\n",
       "      <td>N-Methyl perfluorooctane sulfonamidoacetic aci...</td>\n",
       "      <td>&lt;</td>\n",
       "      <td>1.7</td>\n",
       "      <td>NG/L</td>\n",
       "      <td>1.7</td>\n",
       "      <td>...</td>\n",
       "      <td>12/30/2021</td>\n",
       "      <td>EPA 537.1</td>\n",
       "      <td>E.S. BABCOCK &amp; SONS</td>\n",
       "      <td>41.781029</td>\n",
       "      <td>-124.2006</td>\n",
       "      <td>NaN</td>\n",
       "      <td>NaN</td>\n",
       "      <td>NaN</td>\n",
       "      <td>NaN</td>\n",
       "      <td>NaN</td>\n",
       "    </tr>\n",
       "    <tr>\n",
       "      <th>1</th>\n",
       "      <td>DDW</td>\n",
       "      <td>Municipal</td>\n",
       "      <td>DDW</td>\n",
       "      <td>CA0800552_002_002</td>\n",
       "      <td>PFNA</td>\n",
       "      <td>Perfluorononanoic acid (PFNA)</td>\n",
       "      <td>&lt;</td>\n",
       "      <td>1.7</td>\n",
       "      <td>NG/L</td>\n",
       "      <td>1.7</td>\n",
       "      <td>...</td>\n",
       "      <td>04/12/2021</td>\n",
       "      <td>NaN</td>\n",
       "      <td>E.S. BABCOCK &amp; SONS</td>\n",
       "      <td>41.781029</td>\n",
       "      <td>-124.2006</td>\n",
       "      <td>NaN</td>\n",
       "      <td>NaN</td>\n",
       "      <td>NaN</td>\n",
       "      <td>NaN</td>\n",
       "      <td>NaN</td>\n",
       "    </tr>\n",
       "    <tr>\n",
       "      <th>2</th>\n",
       "      <td>DDW</td>\n",
       "      <td>Municipal</td>\n",
       "      <td>DDW</td>\n",
       "      <td>CA0800552_002_002</td>\n",
       "      <td>PFDOA</td>\n",
       "      <td>Perfluorododecanoic acid (PFDoDA)</td>\n",
       "      <td>&lt;</td>\n",
       "      <td>1.7</td>\n",
       "      <td>NG/L</td>\n",
       "      <td>1.7</td>\n",
       "      <td>...</td>\n",
       "      <td>04/12/2021</td>\n",
       "      <td>NaN</td>\n",
       "      <td>E.S. BABCOCK &amp; SONS</td>\n",
       "      <td>41.781029</td>\n",
       "      <td>-124.2006</td>\n",
       "      <td>NaN</td>\n",
       "      <td>NaN</td>\n",
       "      <td>NaN</td>\n",
       "      <td>NaN</td>\n",
       "      <td>NaN</td>\n",
       "    </tr>\n",
       "    <tr>\n",
       "      <th>3</th>\n",
       "      <td>DDW</td>\n",
       "      <td>Municipal</td>\n",
       "      <td>DDW</td>\n",
       "      <td>CA0800552_002_002</td>\n",
       "      <td>PFTRIDA</td>\n",
       "      <td>Perfluorotridecanoic acid (PFTrDA)</td>\n",
       "      <td>&lt;</td>\n",
       "      <td>1.7</td>\n",
       "      <td>NG/L</td>\n",
       "      <td>1.7</td>\n",
       "      <td>...</td>\n",
       "      <td>04/12/2021</td>\n",
       "      <td>NaN</td>\n",
       "      <td>E.S. BABCOCK &amp; SONS</td>\n",
       "      <td>41.781029</td>\n",
       "      <td>-124.2006</td>\n",
       "      <td>NaN</td>\n",
       "      <td>NaN</td>\n",
       "      <td>NaN</td>\n",
       "      <td>NaN</td>\n",
       "      <td>NaN</td>\n",
       "    </tr>\n",
       "    <tr>\n",
       "      <th>4</th>\n",
       "      <td>DDW</td>\n",
       "      <td>Municipal</td>\n",
       "      <td>DDW</td>\n",
       "      <td>CA0800552_002_002</td>\n",
       "      <td>PFTEDA</td>\n",
       "      <td>Perfluorotetradecanoic acid (PFTeDA)</td>\n",
       "      <td>&lt;</td>\n",
       "      <td>1.7</td>\n",
       "      <td>NG/L</td>\n",
       "      <td>1.7</td>\n",
       "      <td>...</td>\n",
       "      <td>04/06/2022</td>\n",
       "      <td>EPA 537.1</td>\n",
       "      <td>E.S. BABCOCK &amp; SONS</td>\n",
       "      <td>41.781029</td>\n",
       "      <td>-124.2006</td>\n",
       "      <td>NaN</td>\n",
       "      <td>NaN</td>\n",
       "      <td>NaN</td>\n",
       "      <td>NaN</td>\n",
       "      <td>NaN</td>\n",
       "    </tr>\n",
       "  </tbody>\n",
       "</table>\n",
       "<p>5 rows × 37 columns</p>\n",
       "</div>"
      ],
      "text/plain": [
       "  gm_dataset_name gm_well_category gm_data_source         gm_well_id  \\\n",
       "0             DDW        Municipal            DDW  CA0800552_002_002   \n",
       "1             DDW        Municipal            DDW  CA0800552_002_002   \n",
       "2             DDW        Municipal            DDW  CA0800552_002_002   \n",
       "3             DDW        Municipal            DDW  CA0800552_002_002   \n",
       "4             DDW        Municipal            DDW  CA0800552_002_002   \n",
       "\n",
       "  gm_chemical_vvl                                   gm_chemical_name  \\\n",
       "0        NMEFOSAA  N-Methyl perfluorooctane sulfonamidoacetic aci...   \n",
       "1            PFNA                      Perfluorononanoic acid (PFNA)   \n",
       "2           PFDOA                  Perfluorododecanoic acid (PFDoDA)   \n",
       "3         PFTRIDA                 Perfluorotridecanoic acid (PFTrDA)   \n",
       "4          PFTEDA               Perfluorotetradecanoic acid (PFTeDA)   \n",
       "\n",
       "  gm_result_modifier  gm_result gm_chemical_units  gm_reporting_limit  ...  \\\n",
       "0                  <        1.7              NG/L                 1.7  ...   \n",
       "1                  <        1.7              NG/L                 1.7  ...   \n",
       "2                  <        1.7              NG/L                 1.7  ...   \n",
       "3                  <        1.7              NG/L                 1.7  ...   \n",
       "4                  <        1.7              NG/L                 1.7  ...   \n",
       "\n",
       "  src_analysis_date  src_analytical_method         src_lab_note  src_latitude  \\\n",
       "0        12/30/2021              EPA 537.1  E.S. BABCOCK & SONS     41.781029   \n",
       "1        04/12/2021                    NaN  E.S. BABCOCK & SONS     41.781029   \n",
       "2        04/12/2021                    NaN  E.S. BABCOCK & SONS     41.781029   \n",
       "3        04/12/2021                    NaN  E.S. BABCOCK & SONS     41.781029   \n",
       "4        04/06/2022              EPA 537.1  E.S. BABCOCK & SONS     41.781029   \n",
       "\n",
       "   src_longitude  src_datum  src_well_depth_ft src_top_depth_of_screen_ft  \\\n",
       "0      -124.2006        NaN                NaN                        NaN   \n",
       "1      -124.2006        NaN                NaN                        NaN   \n",
       "2      -124.2006        NaN                NaN                        NaN   \n",
       "3      -124.2006        NaN                NaN                        NaN   \n",
       "4      -124.2006        NaN                NaN                        NaN   \n",
       "\n",
       "   src_bottom_depth_of_screen_ft  src_well_category  \n",
       "0                            NaN                NaN  \n",
       "1                            NaN                NaN  \n",
       "2                            NaN                NaN  \n",
       "3                            NaN                NaN  \n",
       "4                            NaN                NaN  \n",
       "\n",
       "[5 rows x 37 columns]"
      ]
     },
     "execution_count": 8,
     "metadata": {},
     "output_type": "execute_result"
    }
   ],
   "source": [
    "df.head()"
   ]
  },
  {
   "cell_type": "code",
   "execution_count": 9,
   "metadata": {},
   "outputs": [
    {
     "data": {
      "text/plain": [
       "('2016-04-01', '2024-09-25')"
      ]
     },
     "execution_count": 9,
     "metadata": {},
     "output_type": "execute_result"
    }
   ],
   "source": [
    "min_gm_result = df['gm_samp_collection_date'].min()\n",
    "max_gm_result = df['gm_samp_collection_date'].max()\n",
    "min_gm_result, max_gm_result"
   ]
  },
  {
   "cell_type": "code",
   "execution_count": 5,
   "metadata": {},
   "outputs": [
    {
     "data": {
      "text/html": [
       "<div>\n",
       "<style scoped>\n",
       "    .dataframe tbody tr th:only-of-type {\n",
       "        vertical-align: middle;\n",
       "    }\n",
       "\n",
       "    .dataframe tbody tr th {\n",
       "        vertical-align: top;\n",
       "    }\n",
       "\n",
       "    .dataframe thead th {\n",
       "        text-align: right;\n",
       "    }\n",
       "</style>\n",
       "<table border=\"1\" class=\"dataframe\">\n",
       "  <thead>\n",
       "    <tr style=\"text-align: right;\">\n",
       "      <th></th>\n",
       "      <th>gm_dataset_name</th>\n",
       "      <th>gm_well_category</th>\n",
       "      <th>gm_data_source</th>\n",
       "      <th>gm_well_id</th>\n",
       "      <th>gm_chemical_vvl</th>\n",
       "      <th>gm_chemical_name</th>\n",
       "      <th>gm_result_modifier</th>\n",
       "      <th>gm_result</th>\n",
       "      <th>gm_chemical_units</th>\n",
       "      <th>gm_reporting_limit</th>\n",
       "      <th>...</th>\n",
       "      <th>src_analysis_date</th>\n",
       "      <th>src_analytical_method</th>\n",
       "      <th>src_lab_note</th>\n",
       "      <th>src_latitude</th>\n",
       "      <th>src_longitude</th>\n",
       "      <th>src_datum</th>\n",
       "      <th>src_well_depth_ft</th>\n",
       "      <th>src_top_depth_of_screen_ft</th>\n",
       "      <th>src_bottom_depth_of_screen_ft</th>\n",
       "      <th>src_well_category</th>\n",
       "    </tr>\n",
       "  </thead>\n",
       "  <tbody>\n",
       "    <tr>\n",
       "      <th>0</th>\n",
       "      <td>DDW</td>\n",
       "      <td>Municipal</td>\n",
       "      <td>DDW</td>\n",
       "      <td>CA0800552_002_002</td>\n",
       "      <td>NMEFOSAA</td>\n",
       "      <td>N-Methyl perfluorooctane sulfonamidoacetic aci...</td>\n",
       "      <td>&lt;</td>\n",
       "      <td>1.7</td>\n",
       "      <td>NG/L</td>\n",
       "      <td>1.7</td>\n",
       "      <td>...</td>\n",
       "      <td>12/30/2021</td>\n",
       "      <td>EPA 537.1</td>\n",
       "      <td>E.S. BABCOCK &amp; SONS</td>\n",
       "      <td>41.781029</td>\n",
       "      <td>-124.2006</td>\n",
       "      <td>NaN</td>\n",
       "      <td>NaN</td>\n",
       "      <td>NaN</td>\n",
       "      <td>NaN</td>\n",
       "      <td>NaN</td>\n",
       "    </tr>\n",
       "    <tr>\n",
       "      <th>1</th>\n",
       "      <td>DDW</td>\n",
       "      <td>Municipal</td>\n",
       "      <td>DDW</td>\n",
       "      <td>CA0800552_002_002</td>\n",
       "      <td>PFNA</td>\n",
       "      <td>Perfluorononanoic acid (PFNA)</td>\n",
       "      <td>&lt;</td>\n",
       "      <td>1.7</td>\n",
       "      <td>NG/L</td>\n",
       "      <td>1.7</td>\n",
       "      <td>...</td>\n",
       "      <td>04/12/2021</td>\n",
       "      <td>NaN</td>\n",
       "      <td>E.S. BABCOCK &amp; SONS</td>\n",
       "      <td>41.781029</td>\n",
       "      <td>-124.2006</td>\n",
       "      <td>NaN</td>\n",
       "      <td>NaN</td>\n",
       "      <td>NaN</td>\n",
       "      <td>NaN</td>\n",
       "      <td>NaN</td>\n",
       "    </tr>\n",
       "    <tr>\n",
       "      <th>2</th>\n",
       "      <td>DDW</td>\n",
       "      <td>Municipal</td>\n",
       "      <td>DDW</td>\n",
       "      <td>CA0800552_002_002</td>\n",
       "      <td>PFDOA</td>\n",
       "      <td>Perfluorododecanoic acid (PFDoDA)</td>\n",
       "      <td>&lt;</td>\n",
       "      <td>1.7</td>\n",
       "      <td>NG/L</td>\n",
       "      <td>1.7</td>\n",
       "      <td>...</td>\n",
       "      <td>04/12/2021</td>\n",
       "      <td>NaN</td>\n",
       "      <td>E.S. BABCOCK &amp; SONS</td>\n",
       "      <td>41.781029</td>\n",
       "      <td>-124.2006</td>\n",
       "      <td>NaN</td>\n",
       "      <td>NaN</td>\n",
       "      <td>NaN</td>\n",
       "      <td>NaN</td>\n",
       "      <td>NaN</td>\n",
       "    </tr>\n",
       "    <tr>\n",
       "      <th>3</th>\n",
       "      <td>DDW</td>\n",
       "      <td>Municipal</td>\n",
       "      <td>DDW</td>\n",
       "      <td>CA0800552_002_002</td>\n",
       "      <td>PFTRIDA</td>\n",
       "      <td>Perfluorotridecanoic acid (PFTrDA)</td>\n",
       "      <td>&lt;</td>\n",
       "      <td>1.7</td>\n",
       "      <td>NG/L</td>\n",
       "      <td>1.7</td>\n",
       "      <td>...</td>\n",
       "      <td>04/12/2021</td>\n",
       "      <td>NaN</td>\n",
       "      <td>E.S. BABCOCK &amp; SONS</td>\n",
       "      <td>41.781029</td>\n",
       "      <td>-124.2006</td>\n",
       "      <td>NaN</td>\n",
       "      <td>NaN</td>\n",
       "      <td>NaN</td>\n",
       "      <td>NaN</td>\n",
       "      <td>NaN</td>\n",
       "    </tr>\n",
       "    <tr>\n",
       "      <th>7</th>\n",
       "      <td>DDW</td>\n",
       "      <td>Municipal</td>\n",
       "      <td>DDW</td>\n",
       "      <td>CA0800552_002_002</td>\n",
       "      <td>PFUNDCA</td>\n",
       "      <td>Perfluoroundecanoic acid (PFUnDA)</td>\n",
       "      <td>&lt;</td>\n",
       "      <td>1.7</td>\n",
       "      <td>NG/L</td>\n",
       "      <td>1.7</td>\n",
       "      <td>...</td>\n",
       "      <td>04/10/2020</td>\n",
       "      <td>NaN</td>\n",
       "      <td>E.S. BABCOCK &amp; SONS</td>\n",
       "      <td>41.781029</td>\n",
       "      <td>-124.2006</td>\n",
       "      <td>NaN</td>\n",
       "      <td>NaN</td>\n",
       "      <td>NaN</td>\n",
       "      <td>NaN</td>\n",
       "      <td>NaN</td>\n",
       "    </tr>\n",
       "  </tbody>\n",
       "</table>\n",
       "<p>5 rows × 37 columns</p>\n",
       "</div>"
      ],
      "text/plain": [
       "  gm_dataset_name gm_well_category gm_data_source         gm_well_id  \\\n",
       "0             DDW        Municipal            DDW  CA0800552_002_002   \n",
       "1             DDW        Municipal            DDW  CA0800552_002_002   \n",
       "2             DDW        Municipal            DDW  CA0800552_002_002   \n",
       "3             DDW        Municipal            DDW  CA0800552_002_002   \n",
       "7             DDW        Municipal            DDW  CA0800552_002_002   \n",
       "\n",
       "  gm_chemical_vvl                                   gm_chemical_name  \\\n",
       "0        NMEFOSAA  N-Methyl perfluorooctane sulfonamidoacetic aci...   \n",
       "1            PFNA                      Perfluorononanoic acid (PFNA)   \n",
       "2           PFDOA                  Perfluorododecanoic acid (PFDoDA)   \n",
       "3         PFTRIDA                 Perfluorotridecanoic acid (PFTrDA)   \n",
       "7         PFUNDCA                  Perfluoroundecanoic acid (PFUnDA)   \n",
       "\n",
       "  gm_result_modifier  gm_result gm_chemical_units  gm_reporting_limit  ...  \\\n",
       "0                  <        1.7              NG/L                 1.7  ...   \n",
       "1                  <        1.7              NG/L                 1.7  ...   \n",
       "2                  <        1.7              NG/L                 1.7  ...   \n",
       "3                  <        1.7              NG/L                 1.7  ...   \n",
       "7                  <        1.7              NG/L                 1.7  ...   \n",
       "\n",
       "  src_analysis_date  src_analytical_method         src_lab_note  src_latitude  \\\n",
       "0        12/30/2021              EPA 537.1  E.S. BABCOCK & SONS     41.781029   \n",
       "1        04/12/2021                    NaN  E.S. BABCOCK & SONS     41.781029   \n",
       "2        04/12/2021                    NaN  E.S. BABCOCK & SONS     41.781029   \n",
       "3        04/12/2021                    NaN  E.S. BABCOCK & SONS     41.781029   \n",
       "7        04/10/2020                    NaN  E.S. BABCOCK & SONS     41.781029   \n",
       "\n",
       "   src_longitude  src_datum  src_well_depth_ft src_top_depth_of_screen_ft  \\\n",
       "0      -124.2006        NaN                NaN                        NaN   \n",
       "1      -124.2006        NaN                NaN                        NaN   \n",
       "2      -124.2006        NaN                NaN                        NaN   \n",
       "3      -124.2006        NaN                NaN                        NaN   \n",
       "7      -124.2006        NaN                NaN                        NaN   \n",
       "\n",
       "   src_bottom_depth_of_screen_ft  src_well_category  \n",
       "0                            NaN                NaN  \n",
       "1                            NaN                NaN  \n",
       "2                            NaN                NaN  \n",
       "3                            NaN                NaN  \n",
       "7                            NaN                NaN  \n",
       "\n",
       "[5 rows x 37 columns]"
      ]
     },
     "execution_count": 5,
     "metadata": {},
     "output_type": "execute_result"
    }
   ],
   "source": [
    "# Convert the 'gm_samp_collection_date' to datetime if not already done\n",
    "df['gm_samp_collection_date'] = pd.to_datetime(df['gm_samp_collection_date'])\n",
    "\n",
    "# Filter the dataset for dates between 2017 and 2021\n",
    "filtered_df = df[(df['gm_samp_collection_date'] >= '2017-01-01') & (df['gm_samp_collection_date'] <= '2021-12-31')]\n",
    "\n",
    "df = filtered_df\n",
    "\n",
    "# Display the filtered dataframe\n",
    "df.head()"
   ]
  },
  {
   "cell_type": "code",
   "execution_count": null,
   "metadata": {},
   "outputs": [],
   "source": [
    "df['gm_chemical_name'].value_counts()"
   ]
  },
  {
   "cell_type": "code",
   "execution_count": null,
   "metadata": {},
   "outputs": [],
   "source": [
    "df['gm_chemical_vvl'].value_counts()"
   ]
  },
  {
   "cell_type": "code",
   "execution_count": null,
   "metadata": {},
   "outputs": [],
   "source": [
    "df['gm_well_category'].value_counts()"
   ]
  },
  {
   "cell_type": "code",
   "execution_count": null,
   "metadata": {},
   "outputs": [],
   "source": [
    "missing_values = df.isna().sum()\n",
    "missing_values"
   ]
  },
  {
   "cell_type": "code",
   "execution_count": null,
   "metadata": {},
   "outputs": [],
   "source": [
    "# Drop values where gm_result is NaN\n",
    "df = df.dropna(subset=['gm_result'])"
   ]
  },
  {
   "cell_type": "code",
   "execution_count": null,
   "metadata": {},
   "outputs": [],
   "source": [
    "# Group by 'gm_chemical_name' and 'year', then calculate the mean of 'gm_result'\n",
    "average_result = df.groupby(['gm_chemical_name'])['gm_result'].mean().reset_index()\n",
    "\n",
    "# Display the result\n",
    "average_result"
   ]
  },
  {
   "cell_type": "code",
   "execution_count": null,
   "metadata": {},
   "outputs": [],
   "source": [
    "california_counties = ['Alameda', 'Alpine', 'Amador', 'Butte', 'Calaveras', 'Colusa',\n",
    "\t'Contra Costa', 'Del Norte', 'El Dorado', 'Tulare', 'Fresno',\n",
    "\t'Glenn', 'Humboldt', 'Imperial', 'Inyo', 'Kern', 'Kings', 'Lake',\n",
    "\t'Lassen', 'Los Angeles', 'Madera', 'Marin', 'Mariposa',\n",
    "\t'Mendocino', 'Merced', 'Modoc', 'Mono', 'Monterey', 'Napa',\n",
    "\t'Nevada', 'Orange', 'Placer', 'Plumas', 'Riverside', 'Sacramento',\n",
    "\t'San Benito', 'San Bernardino', 'San Diego', 'San Francisco',\n",
    "\t'San Joaquin', 'San Luis Obispo', 'San Mateo', 'Santa Barbara',\n",
    "\t'Santa Clara', 'Santa Cruz', 'Shasta', 'Sierra', 'Siskiyou',\n",
    "\t'Solano', 'Sonoma', 'Stanislaus', 'Sutter', 'Shasta', 'Tehama',\n",
    "\t'Trinity', 'Tulare', 'Tuolumne', 'Ventura', 'Kern', 'Yolo', 'Yuba'\n",
    "]"
   ]
  },
  {
   "cell_type": "code",
   "execution_count": null,
   "metadata": {},
   "outputs": [],
   "source": [
    "# Extract relevant columns\n",
    "df = df[['gm_chemical_vvl', 'gm_result', 'gm_samp_collection_date', 'gm_latitude', 'gm_longitude']]\n",
    "df = df.sort_values(by='gm_samp_collection_date', ascending=False)\n",
    "df"
   ]
  },
  {
   "cell_type": "code",
   "execution_count": null,
   "metadata": {},
   "outputs": [],
   "source": [
    "import geopandas as gpd\n",
    "\n",
    "# Load the shapefile\n",
    "shapefile_path = '../data/raw/tl_2022_us_county.zip'\n",
    "gdf = gpd.read_file(shapefile_path)"
   ]
  },
  {
   "cell_type": "code",
   "execution_count": null,
   "metadata": {},
   "outputs": [],
   "source": [
    "gdf.columns"
   ]
  },
  {
   "cell_type": "code",
   "execution_count": null,
   "metadata": {},
   "outputs": [],
   "source": [
    "gdf.head()"
   ]
  },
  {
   "cell_type": "code",
   "execution_count": null,
   "metadata": {},
   "outputs": [],
   "source": [
    "# Calculate the bounds for each county\n",
    "county_bounds = {}\n",
    "for _, row in gdf.iterrows():\n",
    "\tcounty_name = row['NAME']  # Adjust this to match the column name in your shapefile\n",
    "\tbounds = row['geometry'].bounds\n",
    "\tcounty_bounds[county_name] = {\n",
    "\t\t'min_lat': bounds[1],\n",
    "\t\t'max_lat': bounds[3],\n",
    "\t\t'min_lon': bounds[0],\n",
    "\t\t'max_lon': bounds[2]\n",
    "\t}"
   ]
  },
  {
   "cell_type": "code",
   "execution_count": null,
   "metadata": {},
   "outputs": [],
   "source": [
    "california_county_bounds = {name: county_bounds[name] for name in california_counties}\n",
    "california_county_bounds"
   ]
  },
  {
   "cell_type": "code",
   "execution_count": null,
   "metadata": {},
   "outputs": [],
   "source": [
    "def get_county_from_bounds(lat, lon):\n",
    "\tfor county, bounds in california_county_bounds.items():\n",
    "\t\tif bounds['min_lat'] <= lat <= bounds['max_lat'] and bounds['min_lon'] <= lon <= bounds['max_lon']:\n",
    "\t\t\treturn county\n",
    "\treturn 'Unknown'"
   ]
  },
  {
   "cell_type": "code",
   "execution_count": null,
   "metadata": {},
   "outputs": [],
   "source": [
    "df['county'] = df.apply(lambda row: get_county_from_bounds(row['gm_latitude'], row['gm_longitude']), axis=1)\n",
    "df"
   ]
  },
  {
   "cell_type": "code",
   "execution_count": null,
   "metadata": {},
   "outputs": [],
   "source": [
    "df['county'].value_counts()"
   ]
  },
  {
   "cell_type": "code",
   "execution_count": null,
   "metadata": {},
   "outputs": [],
   "source": [
    "df = df[['gm_chemical_vvl', 'gm_result', 'gm_samp_collection_date', 'county']]\n",
    "df = df.sort_values(by='gm_samp_collection_date', ascending=False)\n",
    "df.head(60)"
   ]
  },
  {
   "cell_type": "code",
   "execution_count": null,
   "metadata": {},
   "outputs": [],
   "source": [
    "grouped_df = df.groupby(['county', 'gm_samp_collection_date', 'gm_chemical_vvl'])['gm_result'].mean().reset_index()\n",
    "grouped_df = grouped_df.sort_values(by='gm_samp_collection_date', ascending=False)\n",
    "# Display the grouped dataframe\n",
    "grouped_df.head(10)"
   ]
  },
  {
   "cell_type": "code",
   "execution_count": null,
   "metadata": {},
   "outputs": [],
   "source": [
    "# Pivot the DataFrame to wide format\n",
    "wide_df = grouped_df.pivot(index=['county', 'gm_samp_collection_date'], columns='gm_chemical_vvl', values='gm_result').reset_index()\n",
    "\n",
    "# Display the wide format DataFrame\n",
    "wide_df.head(10)"
   ]
  },
  {
   "cell_type": "code",
   "execution_count": null,
   "metadata": {},
   "outputs": [],
   "source": [
    "# Flatten the columns and rename them\n",
    "wide_df.columns.name = None\n",
    "wide_df.columns = ['county', 'gm_samp_collection_date'] + [f'{col}' for col in wide_df.columns[2:]]\n",
    "\n",
    "wide_df = wide_df.sort_values(by=['county', 'gm_samp_collection_date'], ascending=False)\n",
    "\n",
    "# Display the wide format DataFrame with renamed columns\n",
    "wide_df.head(10)"
   ]
  },
  {
   "cell_type": "code",
   "execution_count": null,
   "metadata": {},
   "outputs": [],
   "source": [
    "wide_df.isna().sum()"
   ]
  },
  {
   "cell_type": "code",
   "execution_count": null,
   "metadata": {},
   "outputs": [],
   "source": [
    "# Ensure the 'gm_samp_collection_date' column is in datetime format\n",
    "wide_df['gm_samp_collection_date'] = pd.to_datetime(wide_df['gm_samp_collection_date'])\n",
    "\n",
    "# Extract the year from the 'gm_samp_collection_date' column\n",
    "wide_df['year'] = wide_df['gm_samp_collection_date'].dt.year\n",
    "\n",
    "# Calculate the annual mean for each PFAS by county and year\n",
    "annual_means = wide_df.groupby(['county', 'year']).mean().reset_index()\n",
    "annual_means"
   ]
  },
  {
   "cell_type": "code",
   "execution_count": null,
   "metadata": {},
   "outputs": [],
   "source": [
    "# Function to fill missing values with the annual mean\n",
    "def fill_with_annual_mean(row, annual_means):\n",
    "\tcounty = row['county']\n",
    "\tyear = row['year']\n",
    "\tfor col in annual_means.columns[2:]:  # Skip 'county' and 'year' columns\n",
    "\t\tif pd.isna(row[col]):\n",
    "\t\t\tmean_value = annual_means[(annual_means['county'] == county) & (annual_means['year'] == year)][col]\n",
    "\t\t\tif not mean_value.empty:\n",
    "\t\t\t\t\trow[col] = mean_value.values[0]\n",
    "\treturn row\n",
    "\n",
    "# Apply the function to fill missing values\n",
    "wide_df_filled = wide_df.apply(lambda row: fill_with_annual_mean(row, annual_means), axis=1)\n",
    "\n",
    "# Drop the 'year' column as it's no longer needed\n",
    "wide_df_filled = wide_df_filled.drop(columns=['year'])\n",
    "\n",
    "wide_df_filled = wide_df_filled.sort_values(by=['county', 'gm_samp_collection_date'], ascending=False)\n",
    "\n",
    "# Display the DataFrame with filled values\n",
    "wide_df_filled.head(10)"
   ]
  },
  {
   "cell_type": "code",
   "execution_count": null,
   "metadata": {},
   "outputs": [],
   "source": [
    "# Fill NaN values with the mean for all columns except 'county' and 'gm_samp_collection_date'\n",
    "columns_to_fill = wide_df_filled.columns.difference(['county', 'gm_samp_collection_date'])\n",
    "wide_df_filled[columns_to_fill] = wide_df_filled[columns_to_fill].fillna(wide_df_filled[columns_to_fill].mean())\n",
    "\n",
    "# Display the DataFrame with filled values\n",
    "wide_df_filled"
   ]
  },
  {
   "cell_type": "code",
   "execution_count": null,
   "metadata": {},
   "outputs": [],
   "source": [
    "pfas_missing_values_by_county = wide_df_filled.isna().sum()\n",
    "pfas_missing_values_by_county"
   ]
  },
  {
   "cell_type": "code",
   "execution_count": null,
   "metadata": {},
   "outputs": [],
   "source": [
    "wide_df_filled = wide_df_filled.fillna(0)\n",
    "wide_df_filled"
   ]
  },
  {
   "cell_type": "code",
   "execution_count": null,
   "metadata": {},
   "outputs": [],
   "source": [
    "wide_df_filled = wide_df_filled.sort_values(by=['county', 'gm_samp_collection_date'])\n",
    "wide_df_filled"
   ]
  },
  {
   "cell_type": "code",
   "execution_count": null,
   "metadata": {},
   "outputs": [],
   "source": [
    "import numpy as np\n",
    "\n",
    "# Apply log transformation to all PFAS columns (excluding county and date)\n",
    "pfas_columns = wide_df_filled.columns.difference(['county', 'gm_samp_collection_date'])\n",
    "\n",
    "# Add small constant (1) before taking log to handle zeros\n",
    "wide_df_filled[pfas_columns] = np.log1p(wide_df_filled[pfas_columns])\n",
    "\n",
    "# Display first few rows of log-transformed data\n",
    "wide_df_filled.head()\n",
    "\n"
   ]
  },
  {
   "cell_type": "code",
   "execution_count": null,
   "metadata": {},
   "outputs": [],
   "source": [
    "# Get list of PFAS chemical columns (excluding county and date)\n",
    "pfas_columns = wide_df_filled.columns.difference(['county', 'gm_samp_collection_date'])\n",
    "\n",
    "# Calculate total PFAS concentration for each row by summing across all PFAS columns\n",
    "wide_df_filled['total_pfas_concentration'] = wide_df_filled[pfas_columns].sum(axis=1)\n",
    "\n",
    "# Display the first few rows to verify the total_pfas_concentration column\n",
    "print(\"First few rows with total PFAS concentrations:\")\n",
    "wide_df_filled[['county', 'gm_samp_collection_date', 'total_pfas_concentration']].head()\n"
   ]
  },
  {
   "cell_type": "code",
   "execution_count": null,
   "metadata": {},
   "outputs": [],
   "source": [
    "# Save the DataFrame to a CSV file\n",
    "wide_df_filled.to_csv('../data/cleaned/cleaned_pfas.csv', index=False)"
   ]
  },
  {
   "cell_type": "code",
   "execution_count": null,
   "metadata": {},
   "outputs": [],
   "source": [
    "# Read in the cleaned cancer data\n",
    "cancer_df = pd.read_csv('../data/cleaned/cleaned_cancer_dataset.csv')\n",
    "\n",
    "# Merge PFAS and cancer data on county\n",
    "merged_df = pd.merge(wide_df_filled, cancer_df, on='county', how='inner')\n",
    "\n",
    "# Display first few rows of merged dataset\n",
    "print(\"First few rows of merged PFAS and cancer data:\")\n",
    "merged_df\n"
   ]
  },
  {
   "cell_type": "code",
   "execution_count": null,
   "metadata": {},
   "outputs": [],
   "source": [
    "# Save the merged DataFrame to a CSV file\n",
    "merged_df.to_csv('../data/cleaned/cleaned_pfas_cancer_merged.csv', index=False)\n"
   ]
  }
 ],
 "metadata": {
  "kernelspec": {
   "display_name": "cs418env",
   "language": "python",
   "name": "python3"
  },
  "language_info": {
   "codemirror_mode": {
    "name": "ipython",
    "version": 3
   },
   "file_extension": ".py",
   "mimetype": "text/x-python",
   "name": "python",
   "nbconvert_exporter": "python",
   "pygments_lexer": "ipython3",
   "version": "3.12.8"
  }
 },
 "nbformat": 4,
 "nbformat_minor": 4
}
